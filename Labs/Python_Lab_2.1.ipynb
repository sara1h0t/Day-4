{
 "cells": [
  {
   "cell_type": "markdown",
   "metadata": {
    "id": "x7F-mxeubDUG"
   },
   "source": [
    "# Python_Lab_2.1\n"
   ]
  },
  {
   "cell_type": "markdown",
   "metadata": {
    "id": "14c6Hn1BbDUH"
   },
   "source": [
    "### Task 1\n",
    "1. Write a function named is_prime that takes a number as a parameter and returns True if the number is prime and False otherwise. Print whether the number 29 is prime."
   ]
  },
  {
   "cell_type": "code",
   "execution_count": null,
   "metadata": {
    "id": "5e_MZEN0bDUI"
   },
   "outputs": [],
   "source": [
    "def is_prime(number):\n",
    "    if number <= 1:\n",
    "        return False\n",
    "    for i in range(2, int(number ** 0.5) + 1):\n",
    "        if number % i == 0:\n",
    "            return False\n",
    "    return True\n",
    "\n",
    "print(\"Is 29 prime?\", is_prime(29))"
   ]
  },
  {
   "cell_type": "markdown",
   "metadata": {
    "id": "2zKG8ZcybDUI"
   },
   "source": [
    "### Task 2\n",
    "1. Create a list of 10 numbers and sort them in descending order using the sort() function.\n",
    "2. Use the len() function to print the length of the sorted list.\n",
    "3. Use the zip() function to combine three lists (names, ages, and cities) into a list of tuples.\n",
    "4. Use the range() function to create a list of even numbers from 2 to 20 and print the list."
   ]
  },
  {
   "cell_type": "code",
   "execution_count": null,
   "metadata": {
    "id": "yyoe__M_bDUI"
   },
   "outputs": [],
   "source": [
    "numbers = [15, 42, 7, 23, 84, 9, 33, 18, 71, 56]\n",
    "numbers.sort(reverse=True)\n",
    "print(\"Sorted numbers in descending order:\", numbers)\n",
    "\n",
    "print(\"Length of the list:\", len(numbers))\n",
    "\n",
    "names = [\"Mnar\", \"Sarah\", \"Amal\"]\n",
    "ages = [24, 23, 27]\n",
    "cities = [\"Al Kharj\", \"Riyadh\", \"Jeddah\"]\n",
    "combined_list = list(zip(names, ages, cities))\n",
    "print(\"Combined list of tuples:\", combined_list)\n",
    "\n",
    "even_numbers = list(range(2, 21, 2))\n",
    "print(\"Even numbers from 2 to 20:\", even_numbers)"
   ]
  },
  {
   "cell_type": "markdown",
   "metadata": {
    "id": "aStW5p7AbDUI"
   },
   "source": [
    "### Task 3\n",
    "Build a phone book program that receives the phone number, and returns the name of the owner.\n",
    "You can follow the table below:\n",
    "\n",
    "| Name     | Number     |\n",
    "| -------- | ---------- |\n",
    "| Amal     | 1111111111 |\n",
    "| Mohammed | 2222222222 |\n",
    "| Khadijah | 3333333333 |\n",
    "| Abdullah | 4444444444 |\n",
    "| Rawan    | 5555555555 |\n",
    "| Faisal   | 6666666666 |\n",
    "| Layla    | 7777777777 |\n",
    "\n",
    "- If the number exists, print the owner. Otherwise, print \"Sorry, the number is not found\".\n",
    "- If the number is less or more than 10 numbers, print \"This is invalid number\".\n",
    "- If the number contains letters or symbols, print \"This is invalid number\".\n"
   ]
  },
  {
   "cell_type": "code",
   "execution_count": null,
   "metadata": {
    "id": "kvXmjUe-bDUJ"
   },
   "outputs": [],
   "source": [
    "phone_book = {\n",
    "    \"1111111111\": \"Amal\",\n",
    "    \"2222222222\": \"Mohammed\",\n",
    "    \"3333333333\": \"Khadijah\",\n",
    "    \"4444444444\": \"Abdullah\",\n",
    "    \"5555555555\": \"Rawan\",\n",
    "    \"6666666666\": \"Faisal\",\n",
    "    \"7777777777\": \"Layla\"\n",
    "}\n",
    "\n",
    "def lookup_phone_number(phone_number):\n",
    "    if not phone_number.isdigit():\n",
    "        return \"This is an invalid number\"\n",
    "\n",
    "    if len(phone_number) != 10:\n",
    "        return \"This is an invalid number\"\n",
    "\n",
    "    if phone_number in phone_book:\n",
    "        return f\"The owner of the phone number is {phone_book[phone_number]}\"\n",
    "    else:\n",
    "        return \"Sorry, the number is not found\"\n",
    "\n",
    "\n",
    "phone_number = input(\"Enter a phone number: \")\n",
    "result = lookup_phone_number(phone_number)\n",
    "print(result)"
   ]
  },
  {
   "cell_type": "markdown",
   "metadata": {
    "id": "exLHQ28nbDUJ"
   },
   "source": [
    "### Task 4\n",
    "- Given the following list : [5, 4, 17, 19, 30, 2, 7, 10, 45]\n",
    "    1. Use a lambda function to filter out only the odd numbers.\n",
    "    2. Print the new list of odd numbers."
   ]
  },
  {
   "cell_type": "code",
   "execution_count": null,
   "metadata": {
    "id": "64SUsh1cbDUJ"
   },
   "outputs": [],
   "source": [
    "numbers = [5, 4, 17, 19, 30, 2, 7, 10, 45]\n",
    "odd_numbers = list(filter(lambda x: x % 2 != 0, numbers))\n",
    "\n",
    "print(\"List of odd numbers:\", odd_numbers)"
   ]
  }
 ],
 "metadata": {
  "colab": {
   "provenance": []
  },
  "kernelspec": {
   "display_name": "Python 3 (ipykernel)",
   "language": "python",
   "name": "python3"
  },
  "language_info": {
   "codemirror_mode": {
    "name": "ipython",
    "version": 3
   },
   "file_extension": ".py",
   "mimetype": "text/x-python",
   "name": "python",
   "nbconvert_exporter": "python",
   "pygments_lexer": "ipython3",
   "version": "3.12.4"
  }
 },
 "nbformat": 4,
 "nbformat_minor": 4
}
